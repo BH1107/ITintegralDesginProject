{
 "cells": [
  {
   "cell_type": "code",
   "execution_count": 1,
   "id": "eaf7ba74-020a-4146-ba4b-7a85336d8fe1",
   "metadata": {},
   "outputs": [],
   "source": [
    "from selenium import webdriver\n",
    "from selenium.webdriver.chrome.service import Service\n",
    "import time\n",
    "from urllib.request import (urlopen, urlparse, urlunparse, urlretrieve)"
   ]
  },
  {
   "cell_type": "code",
   "execution_count": 2,
   "id": "50639766-5d09-43d0-b39b-fba06311e9fb",
   "metadata": {},
   "outputs": [],
   "source": [
    "service = Service(executable_path=r'/Applications/chromedriver-mac-arm64/chromedriver')\n",
    "base_url = \"https://www.google.co.kr/imghp\""
   ]
  },
  {
   "cell_type": "code",
   "execution_count": 3,
   "id": "7fe6fe62-3fa9-4f23-bc5a-6b8df1839e96",
   "metadata": {},
   "outputs": [],
   "source": [
    "options = webdriver.ChromeOptions()\n",
    "\n",
    "options.add_argument(\"lang=ko_KR\")\n",
    "options.add_argument('window-size=1920x1080')\n",
    "driver = webdriver.Chrome(service=service,options=options)\n",
    "driver.get(base_url)\n",
    "driver.implicitly_wait(10) \n",
    "driver.get_screenshot_as_file('google_screen.png') #just test\n",
    "driver.close()"
   ]
  },
  {
   "cell_type": "code",
   "execution_count": 4,
   "id": "63b6015f-ca61-4e27-97a7-f31f98a3af81",
   "metadata": {},
   "outputs": [],
   "source": [
    "def selenium_scroll_option():\n",
    "  SCROLL_PAUSE_SEC = 3\n",
    "  \n",
    "  # 스크롤 높이 가져옴\n",
    "  last_height = driver.execute_script(\"return document.body.scrollHeight\")\n",
    "  \n",
    "  while True:\n",
    "    # 끝까지 스크롤 다운\n",
    "    driver.execute_script(\"window.scrollTo(0, document.body.scrollHeight);\")\n",
    "\n",
    "    # 1초 대기\n",
    "    time.sleep(SCROLL_PAUSE_SEC)\n",
    "\n",
    "    # 스크롤 다운 후 스크롤 높이 다시 가져옴\n",
    "    new_height = driver.execute_script(\"return document.body.scrollHeight\")\n",
    "  \n",
    "    if new_height == last_height:\n",
    "        break\n",
    "    last_height = new_height"
   ]
  },
  {
   "cell_type": "code",
   "execution_count": 5,
   "id": "689d6214-e29f-4293-babd-2b484c33619a",
   "metadata": {},
   "outputs": [],
   "source": [
    "# 검색어로 이미지 크롤링 하기\n",
    "adélie_penguin = './adélie penguin/'\n",
    "king_penguin = './king penguin/'\n",
    "gentoo_penguin = './gentoo penguin/'"
   ]
  },
  {
   "cell_type": "code",
   "execution_count": 6,
   "id": "1742d566-30d5-4f36-9c36-5190c5beb3aa",
   "metadata": {},
   "outputs": [
    {
     "name": "stdout",
     "output_type": "stream",
     "text": [
      "검색할 키워드를 입력 :  gentoo penguin\n",
      "저장할 이미지 이름 :  gentoo_penguin\n"
     ]
    }
   ],
   "source": [
    "from selenium import webdriver\n",
    "from selenium.webdriver.common.keys import Keys\n",
    "import time\n",
    "import urllib.request\n",
    "import os\n",
    "import pandas as pd\n",
    "from selenium.webdriver.common.by import By\n",
    "\n",
    "# 키워드 검색하기\n",
    "\n",
    "a=input(\"검색할 키워드를 입력 : \")\n",
    "image_name = input(\"저장할 이미지 이름 : \")\n",
    "#b=int(input(\"몇 개 저장할래? : \"))\n",
    "driver = webdriver.Chrome(service=service)\n",
    "driver.get('http://www.google.co.kr/imghp?hl=ko')\n",
    "browser = driver.find_element(By.NAME,\"q\")\n",
    "browser.send_keys(a)\n",
    "browser.send_keys(Keys.RETURN)\n",
    "\n",
    "\n",
    "\n",
    "# 클래스를 찾고 해당 클래스의 src 리스트를 만들자\n",
    "\n",
    "selenium_scroll_option() # 스크롤하여 이미지를 많이 확보\n",
    "\n",
    "\n",
    "\n"
   ]
  },
  {
   "cell_type": "code",
   "execution_count": 7,
   "id": "c256660e-033f-4018-87c4-8b7ad4999c64",
   "metadata": {},
   "outputs": [],
   "source": [
    "##중간에 이미지 더보기 버튼이 나오면 실행\n",
    "driver.find_elements(By.XPATH,'//*[@id=\"islmp\"]/div/div/div/div/div[1]/div[2]/div[2]/input')[0].click() # 이미지 더보기 클릭\n",
    "selenium_scroll_option() ##한번더 스크롤하여 이미지 확보\n"
   ]
  },
  {
   "cell_type": "code",
   "execution_count": 8,
   "id": "9878a7d1-707b-4a1d-8eff-9d432ae3fece",
   "metadata": {},
   "outputs": [
    {
     "name": "stdout",
     "output_type": "stream",
     "text": [
      "전체 다운로드한 이미지 개수: 658\n",
      "동일한 이미지를 제거한 이미지 개수: 658\n"
     ]
    }
   ],
   "source": [
    "'''이미지 src요소를 리스트업해서 이미지 url 저장'''\n",
    "\n",
    "images = driver.find_elements(By.CSS_SELECTOR, \".rg_i.Q4LuWd\") #  클래스 네임에서 공백은 .을 찍어줌\n",
    "images_url = []\n",
    "for i in images: \n",
    "   \n",
    "   if i.get_attribute('src')!= None :\n",
    "        images_url.append(i.get_attribute('src'))\n",
    "   else :\n",
    "       images_url.append(i.get_attribute('data-src'))\n",
    "driver.close()\n",
    "\n",
    "\n",
    "\n",
    "# 겹치는 이미지 url 제거\n",
    "\n",
    "print(\"전체 다운로드한 이미지 개수: {}\\n동일한 이미지를 제거한 이미지 개수: {}\".format(len(images_url), len(pd.DataFrame(images_url)[0].unique())))\n",
    "images_url=pd.DataFrame(images_url)[0].unique()"
   ]
  },
  {
   "cell_type": "code",
   "execution_count": 10,
   "id": "0760f7a4-6bc3-40e6-995e-0d8858cf98ba",
   "metadata": {},
   "outputs": [],
   "source": [
    "if image_name == 'adélie_penguin' :   \n",
    "   for t, url in enumerate(images_url, 0):        \n",
    "      urlretrieve(url, adélie_penguin + image_name + '_' + str(t) + '.jpg')\n",
    "   \n",
    "   \n",
    "elif image_name == 'king_penguin' :\n",
    "   for t, url in enumerate(images_url, 0):        \n",
    "      urlretrieve(url, king_penguin + image_name + '_' + str(t) + '.jpg')\n",
    "\n",
    "elif image_name == 'gentoo_penguin' :\n",
    "   for t, url in enumerate(images_url, 0):        \n",
    "      urlretrieve(url, gentoo_penguin + image_name + '_' + str(t) + '.jpg')"
   ]
  },
  {
   "cell_type": "code",
   "execution_count": null,
   "id": "f3c2089e-4cc4-41d9-8167-13f89dc490fd",
   "metadata": {},
   "outputs": [],
   "source": []
  }
 ],
 "metadata": {
  "kernelspec": {
   "display_name": "env_tf",
   "language": "python",
   "name": "env_tf"
  },
  "language_info": {
   "codemirror_mode": {
    "name": "ipython",
    "version": 3
   },
   "file_extension": ".py",
   "mimetype": "text/x-python",
   "name": "python",
   "nbconvert_exporter": "python",
   "pygments_lexer": "ipython3",
   "version": "3.8.18"
  }
 },
 "nbformat": 4,
 "nbformat_minor": 5
}
