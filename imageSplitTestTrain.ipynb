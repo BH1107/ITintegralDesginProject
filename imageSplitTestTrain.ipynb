{
 "cells": [
  {
   "cell_type": "code",
   "execution_count": null,
   "id": "fbaca5c2-beec-44e8-8d33-5f2c4a7f4107",
   "metadata": {},
   "outputs": [],
   "source": [
    "##test/train split"
   ]
  },
  {
   "cell_type": "code",
   "execution_count": null,
   "id": "f6544d15-acc8-4664-899e-3ea9cf0f49c6",
   "metadata": {},
   "outputs": [],
   "source": [
    "path = \"/Users/bh\"\n",
    "adélie_penguin = glob.glob(path+\"/adélie penguin\" + '/*')\n",
    "king_penguin = glob.glob(path+\"/king penguin\"+'/*')\n",
    "gentoo_penguin = glob.glob(path+\"/gentoo penguin\"+'/*')\n"
   ]
  },
  {
   "cell_type": "code",
   "execution_count": null,
   "id": "65dd3339-ee68-4ba9-9434-6acba8240704",
   "metadata": {},
   "outputs": [],
   "source": [
    "import random\n",
    "import math\n",
    "\n",
    "adelie_test_count = round(len(adélie_penguin)*0.2)\n",
    "king_test_count = round(len(king_penguin)*0.2)\n",
    "\n",
    "gentoo_penguin_count = round(len(gentoo_penguin)*0.2)\n",
    "\n",
    "print('adélie_penguin test파일에 들어갈 이미지 개수 : {}/{}'.format(adelie_test_count,len(adélie_penguin)))\n",
    "print('king_penguin test파일에 들어갈 이미지 개수 : {}/{}'.format(king_test_count,len(king_penguin)))\n",
    "print('gentoo_penguin test파일에 들어갈 이미지 개수 : {}/{}'.format(gentoo_penguin_count,len(gentoo_penguin)))"
   ]
  },
  {
   "cell_type": "code",
   "execution_count": 4,
   "id": "0832bdf4-53a1-4db6-9bf1-591736800684",
   "metadata": {},
   "outputs": [],
   "source": [
    "import shutil\n",
    "def split( img_list, test_count, train_path, test_path):\n",
    "  \n",
    "  test_files=[]\n",
    "  for i in random.sample( img_list, test_count ):\n",
    "    test_files.append(i)\n",
    "\n",
    "  # 차집합으로 train/test 리스트 생성하기\n",
    "  train_files = [x for x in img_list if x not in test_files]\n",
    "\n",
    "  for k in train_files:\n",
    "    shutil.copy(k, train_path)\n",
    "  \n",
    "  for c in test_files:\n",
    "    shutil.copy(c, test_path)\n",
    "\n",
    "  print('train 폴더 이미지 개수 : {}\\ntest 폴더 이미지 개수 : {}'.format(len(glob.glob(train_path+'/*')),len(glob.glob(test_path+'/*'))))\n",
    "     "
   ]
  },
  {
   "cell_type": "code",
   "execution_count": null,
   "id": "dba6472f-9d0e-4c19-9dc4-14120e130bc0",
   "metadata": {},
   "outputs": [],
   "source": [
    "adelie_train_path='/Users/bh/train/adélie penguin'\n",
    "adelie_test_path='/Users/bh/test/adélie penguin'\n",
    "\n",
    "king_train_path='/Users/bh/train/king penguin'\n",
    "king_test_path='/Users/bh/test/king penguin'\n",
    "\n",
    "split(adélie_penguin, adelie_test_count, adelie_train_path, adelie_test_path)\n",
    "split(king_penguin, king_test_count, king_train_path, king_test_path)"
   ]
  },
  {
   "cell_type": "code",
   "execution_count": 6,
   "id": "d95de177-5378-49e5-8859-437457b64737",
   "metadata": {},
   "outputs": [
    {
     "name": "stdout",
     "output_type": "stream",
     "text": [
      "train 폴더 이미지 개수 : 387\n",
      "test 폴더 이미지 개수 : 97\n"
     ]
    }
   ],
   "source": [
    "import random\n",
    "gentoo_penguin_train_path='/Users/bh/train/gentoo penguin'\n",
    "gentoo_penguin_test_path='/Users/bh/test/gentoo penguin'\n",
    "\n",
    "split(gentoo_penguin, gentoo_penguin_count, gentoo_penguin_train_path, gentoo_penguin_test_path)"
   ]
  },
  {
   "cell_type": "code",
   "execution_count": null,
   "id": "4c0cd32a-4677-4912-b405-2f4a723dd08c",
   "metadata": {},
   "outputs": [],
   "source": []
  }
 ],
 "metadata": {
  "kernelspec": {
   "display_name": "env_tf",
   "language": "python",
   "name": "env_tf"
  },
  "language_info": {
   "codemirror_mode": {
    "name": "ipython",
    "version": 3
   },
   "file_extension": ".py",
   "mimetype": "text/x-python",
   "name": "python",
   "nbconvert_exporter": "python",
   "pygments_lexer": "ipython3",
   "version": "3.8.18"
  }
 },
 "nbformat": 4,
 "nbformat_minor": 5
}
