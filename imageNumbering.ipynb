{
 "cells": [
  {
   "cell_type": "code",
   "execution_count": 1,
   "id": "deefc088-767d-4b21-bd73-38968ac9a802",
   "metadata": {},
   "outputs": [],
   "source": [
    "import os"
   ]
  },
  {
   "cell_type": "code",
   "execution_count": 2,
   "id": "f55603d6-a6cb-4f66-9826-8c42e68ccf10",
   "metadata": {},
   "outputs": [],
   "source": [
    "import os\n",
    "\n",
    "foler_path = \"/Users/bh/kears/gentoo/test/gentoo penguin/\" #-- 파일이 저장된 폴더 경로\n",
    "folderlist = os.listdir(foler_path)\n",
    "\n",
    "i = 0\n",
    "\n",
    "for name in folderlist:\n",
    "    src = os.path.join(foler_path, name)\n",
    "    dst = 'adelie_penguin' + str(i) + '.jpg' #-- 확장자의 경우 필요에 따라 변경할 것\n",
    "    dst = os.path.join(foler_path, dst)\n",
    "    os.rename(src,dst)\n",
    "    i += 1"
   ]
  },
  {
   "cell_type": "code",
   "execution_count": 3,
   "id": "75f04b93-d0a9-4d31-85e8-984cb81b3ce7",
   "metadata": {},
   "outputs": [],
   "source": [
    "import os\n",
    "\n",
    "foler_path = \"/Users/bh/2try/king penguin/\" #-- 파일이 저장된 폴더 경로\n",
    "folderlist = os.listdir(foler_path)\n",
    "\n",
    "i = 0\n",
    "\n",
    "for name in folderlist:\n",
    "    src = os.path.join(foler_path, name)\n",
    "    dst = 'king_penguin' + str(i) + '.jpg' #-- 확장자의 경우 필요에 따라 변경할 것\n",
    "    dst = os.path.join(foler_path, dst)\n",
    "    os.rename(src,dst)\n",
    "    i += 1"
   ]
  },
  {
   "cell_type": "code",
   "execution_count": 2,
   "id": "a4b0a177-137d-41f8-bbd4-890da5a75a37",
   "metadata": {},
   "outputs": [],
   "source": [
    "import glob"
   ]
  },
  {
   "cell_type": "code",
   "execution_count": 8,
   "id": "239ddc01-723f-46cc-9ee9-ecf620433190",
   "metadata": {},
   "outputs": [],
   "source": [
    "foler_path = \"/Users/bh/2try/test/adélie penguin/\" #-- 파일이 저장된 폴더 경로\n",
    "folderlist = os.listdir(foler_path)\n",
    "\n",
    "i = 0\n",
    "\n",
    "for name in folderlist:\n",
    "    src = os.path.join(foler_path, name)\n",
    "    dst = 'adélie_penguin_' + str(i) + '.jpg' #-- 확장자의 경우 필요에 따라 변경할 것\n",
    "    dst = os.path.join(foler_path, dst)\n",
    "    os.rename(src,dst)\n",
    "    i += 1"
   ]
  },
  {
   "cell_type": "code",
   "execution_count": 2,
   "id": "52690d61-bfe8-4e09-9317-131229047583",
   "metadata": {},
   "outputs": [],
   "source": [
    "foler_path = \"/Users/bh/2try/test/king penguin/\" #-- 파일이 저장된 폴더 경로\n",
    "folderlist = os.listdir(foler_path)\n",
    "\n",
    "i = 0\n",
    "\n",
    "for name in folderlist:\n",
    "    src = os.path.join(foler_path, name)\n",
    "    dst = 'king penguin' + str(i) + '.jpg' #-- 확장자의 경우 필요에 따라 변경할 것\n",
    "    dst = os.path.join(foler_path, dst)\n",
    "    os.rename(src,dst)\n",
    "    i += 1"
   ]
  },
  {
   "cell_type": "code",
   "execution_count": 2,
   "id": "ff8acab7-1180-478b-b83a-619bcf1ef0e0",
   "metadata": {},
   "outputs": [],
   "source": [
    "foler_path = \"/Users/bh/2try/train/adélie penguin/\" #-- 파일이 저장된 폴더 경로\n",
    "folderlist = os.listdir(foler_path)\n",
    "\n",
    "i = 0\n",
    "\n",
    "for name in folderlist:\n",
    "    src = os.path.join(foler_path, name)\n",
    "    dst = 'adélie_penguin' + str(i) + '.jpg' #-- 확장자의 경우 필요에 따라 변경할 것\n",
    "    dst = os.path.join(foler_path, dst)\n",
    "    os.rename(src,dst)\n",
    "    i += 1"
   ]
  },
  {
   "cell_type": "code",
   "execution_count": 2,
   "id": "6c723967-9061-4243-82d0-67b96440e89d",
   "metadata": {},
   "outputs": [],
   "source": [
    "foler_path = \"/Users/bh/2try/train/king penguin/\" #-- 파일이 저장된 폴더 경로\n",
    "folderlist = os.listdir(foler_path)\n",
    "\n",
    "i = 0\n",
    "\n",
    "for name in folderlist:\n",
    "    src = os.path.join(foler_path, name)\n",
    "    dst = 'king penguin' + str(i) + '.jpg' #-- 확장자의 경우 필요에 따라 변경할 것\n",
    "    dst = os.path.join(foler_path, dst)\n",
    "    os.rename(src,dst)\n",
    "    i += 1"
   ]
  },
  {
   "cell_type": "code",
   "execution_count": null,
   "id": "548afde2-3265-415a-bb6a-611ec64c2624",
   "metadata": {},
   "outputs": [],
   "source": []
  }
 ],
 "metadata": {
  "kernelspec": {
   "display_name": "env_tf",
   "language": "python",
   "name": "env_tf"
  },
  "language_info": {
   "codemirror_mode": {
    "name": "ipython",
    "version": 3
   },
   "file_extension": ".py",
   "mimetype": "text/x-python",
   "name": "python",
   "nbconvert_exporter": "python",
   "pygments_lexer": "ipython3",
   "version": "3.8.18"
  }
 },
 "nbformat": 4,
 "nbformat_minor": 5
}
